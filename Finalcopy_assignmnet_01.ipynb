{
  "nbformat": 4,
  "nbformat_minor": 0,
  "metadata": {
    "colab": {
      "provenance": []
    },
    "kernelspec": {
      "name": "python3",
      "display_name": "Python 3"
    },
    "language_info": {
      "name": "python"
    }
  },
  "cells": [
    {
      "cell_type": "code",
      "source": [
        "import pandas as pd\n",
        "import numpy as np\n",
        "from datetime import datetime, timedelta\n",
        "import faker\n",
        "import random\n",
        "\n",
        "# Set a seed for reproducibility\n",
        "seed_value = 42\n",
        "random.seed(seed_value)\n",
        "np.random.seed(seed_value)\n",
        "\n",
        "# Initialize Faker generator with seed\n",
        "fake = faker.Faker()\n",
        "faker.Faker.seed(seed_value)\n",
        "\n",
        "# Load race tracks data\n",
        "race_tracks = pd.read_csv('/content/circuits.csv')\n",
        "\n",
        "# Function to generate random data with systematic positions and dates\n",
        "def generate_data_with_positions_and_dates(num_rows, race_tracks):\n",
        "    num_tracks = len(race_tracks)\n",
        "\n",
        "    data = {\n",
        "        'Racer ID': np.random.randint(200000, 299999, size=num_rows),\n",
        "        'FirstName': [fake.first_name() for _ in range(num_rows)],\n",
        "        'LastName': [fake.last_name() for _ in range(num_rows)],\n",
        "        'Location': [race_tracks['location'].iloc[i % num_tracks] for i in range(num_rows)],\n",
        "        'CircuitName': [race_tracks['track'].iloc[i % num_tracks] for i in range(num_rows)],\n",
        "        'TeamName': [fake.company() for _ in range(num_rows)],\n",
        "        'Sponsor': [fake.company() for _ in range(num_rows)],\n",
        "        'LapTime': np.round(np.random.uniform(60, 600, size=num_rows), 2)\n",
        "    }\n",
        "\n",
        "    # Create a DataFrame from the generated data\n",
        "    df = pd.DataFrame(data)\n",
        "\n",
        "    # Sort the DataFrame by 'CircuitName', 'LapTime'\n",
        "    df = df.sort_values(by=['CircuitName', 'LapTime'], ascending=[True, True])\n",
        "\n",
        "    # Generate unique dates for each circuit\n",
        "    circuit_dates = [datetime(2013, 1, 1) + timedelta(days=i) for i in range(num_tracks)]\n",
        "    df['Date'] = np.repeat(circuit_dates, num_rows // num_tracks)[:num_rows]\n",
        "\n",
        "    # Assign positions within each circuit group based on LapTime\n",
        "    df['Position'] = df.groupby('CircuitName').cumcount() % 10 + 1\n",
        "\n",
        "    # Convert 'LapTime' to string format\n",
        "    df['LapTime'] = df['LapTime'].apply(lambda x: f'{int(x // 60):02d}:{int(x % 60):02d}.{int((x % 1) * 100):02d}')\n",
        "\n",
        "    return df\n",
        "\n",
        "# Generate random data with systematic positions and dates\n",
        "num_rows = 770\n",
        "data_with_positions_and_dates = generate_data_with_positions_and_dates(num_rows, race_tracks)\n",
        "\n",
        "# Display the resulting DataFrame\n",
        "print(data_with_positions_and_dates)\n",
        "\n",
        "# Save DataFrames to CSV\n",
        "csv_file_path = '/content/UpdatedDataBase.csv'\n",
        "data_with_positions_and_dates.to_csv(csv_file_path, index=False, header=True, mode='w', encoding='utf-8')\n",
        "\n",
        "# Print the file path\n",
        "print(f'CSV file saved at: {csv_file_path}')\n"
      ],
      "metadata": {
        "colab": {
          "base_uri": "https://localhost:8080/"
        },
        "id": "7_JjKVEW3l56",
        "outputId": "9145c311-1dc7-415d-eaca-6b8688b13a25"
      },
      "execution_count": 5,
      "outputs": [
        {
          "output_type": "stream",
          "name": "stdout",
          "text": [
            "     Racer ID FirstName LastName        Location CircuitName  \\\n",
            "368    200301     Aaron  Schultz          Berlin        AVUS   \n",
            "599    244811     Stacy    Potts          Berlin        AVUS   \n",
            "522    209823     Debra    Ponce          Berlin        AVUS   \n",
            "137    282948  Kathleen   Garner          Berlin        AVUS   \n",
            "60     289475  Veronica   Sawyer          Berlin        AVUS   \n",
            "..        ...       ...      ...             ...         ...   \n",
            "193    298098    Sandra  Bentley  Heusden-Zolder      Zolder   \n",
            "501    295981   Anthony    Mills  Heusden-Zolder      Zolder   \n",
            "347    205600    Joshua   Farmer  Heusden-Zolder      Zolder   \n",
            "578    233496      Ryan   Murray  Heusden-Zolder      Zolder   \n",
            "732    271726   Sabrina   Thomas  Heusden-Zolder      Zolder   \n",
            "\n",
            "                         TeamName                    Sponsor   LapTime  \\\n",
            "368  Hernandez, Jenkins and Parks                Jones Group  01:13.70   \n",
            "599      Reeves, Parks and Little              Fernandez Inc  02:33.90   \n",
            "522                  Miller-Colon              Perez-Coleman  03:52.31   \n",
            "137             Mitchell and Sons  Kelly, Maxwell and Wilson  03:56.84   \n",
            "60                 Robles-Swanson      Love, Wilson and Hall  04:31.81   \n",
            "..                            ...                        ...       ...   \n",
            "193                    Landry Ltd             Mcdonald-Pitts  05:19.81   \n",
            "501                    Fields Inc              Hudson-Gentry  08:38.57   \n",
            "347                   Smith-Noble            Browning-Murphy  09:04.95   \n",
            "578              Johnson-Williams              Douglas-Yoder  09:30.15   \n",
            "732                 Butler-French             Sullivan Group  09:42.82   \n",
            "\n",
            "          Date  Position  \n",
            "368 2013-01-01         1  \n",
            "599 2013-01-01         2  \n",
            "522 2013-01-01         3  \n",
            "137 2013-01-01         4  \n",
            "60  2013-01-01         5  \n",
            "..         ...       ...  \n",
            "193 2013-03-18         6  \n",
            "501 2013-03-18         7  \n",
            "347 2013-03-18         8  \n",
            "578 2013-03-18         9  \n",
            "732 2013-03-18        10  \n",
            "\n",
            "[770 rows x 10 columns]\n",
            "CSV file saved at: /content/UpdatedDataBase.csv\n"
          ]
        }
      ]
    },
    {
      "cell_type": "code",
      "source": [],
      "metadata": {
        "id": "Mv7vuSVB4qti"
      },
      "execution_count": null,
      "outputs": []
    }
  ]
}